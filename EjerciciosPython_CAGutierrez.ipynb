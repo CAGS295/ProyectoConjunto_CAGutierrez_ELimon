{
 "cells": [
  {
   "cell_type": "code",
   "execution_count": 1,
   "metadata": {
    "collapsed": true
   },
   "outputs": [],
   "source": [
    "import numpy as np"
   ]
  },
  {
   "cell_type": "code",
   "execution_count": 6,
   "metadata": {},
   "outputs": [
    {
     "data": {
      "text/plain": [
       "array([  12.23,   13.32,  100.  ,   36.32])"
      ]
     },
     "execution_count": 6,
     "metadata": {},
     "output_type": "execute_result"
    }
   ],
   "source": [
    "'''1. Write a Python program to convert a list of numeric value into a one-dimensional\n",
    "NumPy array. Expected Output:\n",
    "Original List: [12.23, 13.32, 100, 36.32]\n",
    "One-dimensional numpy array: [ 12.23 13.32 100. 36.32]'''\n",
    "lista = [12.23, 13.32, 100, 36.32]\n",
    "np.array(lista)"
   ]
  },
  {
   "cell_type": "code",
   "execution_count": 15,
   "metadata": {},
   "outputs": [
    {
     "data": {
      "text/plain": [
       "array([ nan,  nan,  nan,  nan,  nan,  11.,  nan,  nan,  nan,  nan])"
      ]
     },
     "execution_count": 15,
     "metadata": {},
     "output_type": "execute_result"
    }
   ],
   "source": [
    "'''2. Write a Python program to create a null vector of size 10 and update sixth value to 11.'''\n",
    "a = np.repeat(np.nan,10)\n",
    "a[5] = 11"
   ]
  },
  {
   "cell_type": "code",
   "execution_count": 18,
   "metadata": {},
   "outputs": [
    {
     "data": {
      "text/plain": [
       "array([12, 13, 14, 15, 16, 17, 18, 19, 20, 21, 22, 23, 24, 25, 26, 27, 28,\n",
       "       29, 30, 31, 32, 33, 34, 35, 36, 37, 38])"
      ]
     },
     "execution_count": 18,
     "metadata": {},
     "output_type": "execute_result"
    }
   ],
   "source": [
    "'''3. Write a Python program to create a array with values ranging from 12 to 38.'''\n",
    "np.arange(12,39)"
   ]
  },
  {
   "cell_type": "code",
   "execution_count": 29,
   "metadata": {},
   "outputs": [
    {
     "data": {
      "text/plain": [
       "array([9, 8, 7, 6, 5, 4, 3, 2, 1, 0])"
      ]
     },
     "execution_count": 29,
     "metadata": {},
     "output_type": "execute_result"
    }
   ],
   "source": [
    "'''4. Write a Python program to reverse an array (first element becomes last).'''\n",
    "b = np.arange(10)\n",
    "b[::-1]"
   ]
  },
  {
   "cell_type": "code",
   "execution_count": 60,
   "metadata": {},
   "outputs": [
    {
     "data": {
      "text/plain": [
       "array([[ 1.,  1.,  1.,  1.],\n",
       "       [ 1.,  0.,  0.,  1.],\n",
       "       [ 1.,  0.,  0.,  1.],\n",
       "       [ 1.,  1.,  1.,  1.]])"
      ]
     },
     "execution_count": 60,
     "metadata": {},
     "output_type": "execute_result"
    }
   ],
   "source": [
    "'''5. Write a Python program to create a 2d array with 1 on the border and 0 inside.Expected\n",
    "Output: Original array: [[ 1. 1. 1. 1. 1.] [ 1. 1. 1. 1. 1.] [ 1. 1. 1. 1. 1.] [ 1. 1. 1. 1. 1.] [ 1.\n",
    "1. 1. 1. 1.]] 1 on the border and 0 inside in the array [[ 1. 1. 1. 1. 1.] [ 1. 0. 0. 0. 1.] [ 1.\n",
    "0. 0. 0. 1.] [ 1. 0. 0. 0. 1.] [ 1. 1. 1. 1. 1.]]'''\n",
    "\n",
    "c = np.ones((4,4))\n",
    "c[1:-1,1:-1] = 0\n",
    "c"
   ]
  },
  {
   "cell_type": "code",
   "execution_count": 65,
   "metadata": {},
   "outputs": [
    {
     "data": {
      "text/plain": [
       "array([[ 0.,  0.,  0.,  0.,  0.,  0.],\n",
       "       [ 0.,  1.,  1.,  1.,  1.,  0.],\n",
       "       [ 0.,  1.,  0.,  0.,  1.,  0.],\n",
       "       [ 0.,  1.,  0.,  0.,  1.,  0.],\n",
       "       [ 0.,  1.,  1.,  1.,  1.,  0.],\n",
       "       [ 0.,  0.,  0.,  0.,  0.,  0.]])"
      ]
     },
     "execution_count": 65,
     "metadata": {},
     "output_type": "execute_result"
    }
   ],
   "source": [
    "'''6. Write a Python program to add a border (filled with 0’s) around an existing array'''\n",
    "np.pad(c,pad_width=1,mode='constant')"
   ]
  },
  {
   "cell_type": "code",
   "execution_count": 92,
   "metadata": {},
   "outputs": [
    {
     "data": {
      "text/plain": [
       "array([[ 0.,  1.,  0.,  1.,  0.,  1.,  0.,  1.],\n",
       "       [ 1.,  0.,  1.,  0.,  1.,  0.,  1.,  0.],\n",
       "       [ 0.,  1.,  0.,  1.,  0.,  1.,  0.,  1.],\n",
       "       [ 1.,  0.,  1.,  0.,  1.,  0.,  1.,  0.],\n",
       "       [ 0.,  1.,  0.,  1.,  0.,  1.,  0.,  1.],\n",
       "       [ 1.,  0.,  1.,  0.,  1.,  0.,  1.,  0.],\n",
       "       [ 0.,  1.,  0.,  1.,  0.,  1.,  0.,  1.],\n",
       "       [ 1.,  0.,  1.,  0.,  1.,  0.,  1.,  0.]])"
      ]
     },
     "execution_count": 92,
     "metadata": {},
     "output_type": "execute_result"
    }
   ],
   "source": [
    "'''7. Write a Python program to create a 8x8 matrix and fill it with a checkerboard pattern\n",
    "Checkerboard pattern: [[0 1 0 1 0 1 0 1] [1 0 1 0 1 0 1 0] [0 1 0 1 0 1 0 1] [1 0 1 0 1 0 1\n",
    "0] [0 1 0 1 0 1 0 1] [1 0 1 0 1 0 1 0] [0 1 0 1 0 1 0 1] [1 0 1 0 1 0 1 0]] hint: Explore the\n",
    "use of x[a :: b, :: c] = d, x[:: e, f :: g] = h, where the letters are integer numbers.'''\n",
    "\n",
    "b = np.ones((8,8))\n",
    "b[0::2,::2] = 0\n",
    "b[1::2,1::2] = 0\n",
    "b\n"
   ]
  },
  {
   "cell_type": "code",
   "execution_count": 105,
   "metadata": {},
   "outputs": [
    {
     "data": {
      "text/plain": [
       "[-17.77777777777778,\n",
       " -11.11111111111111,\n",
       " 7.33888888888889,\n",
       " 1.1111111111111112,\n",
       " 37.727777777777774]"
      ]
     },
     "execution_count": 105,
     "metadata": {},
     "output_type": "execute_result"
    }
   ],
   "source": [
    "'''8. Write a Python program to convert the values of Centigrade degrees into Fahrenheit\n",
    "degrees. Centigrade values are stored into a NumPy array.\n",
    "Sample Array [0, 12, 45.21 ,34, 99.91]\n",
    "Expected Output:\n",
    "Values in Fahrenheit degrees: [0.0 12.0 45.21 34.0 99.91]\n",
    "Values in Centigrade degrees: [-17.77777778 -11.11111111 7.33888889 1.11111111 37.72777778].\n",
    "Use functions and list comprehension read the link https: // www. pythonforbeginners.\n",
    "com/ lists/ list-comprehensions-in-python/ , to additional information about of\n",
    "list comprehension in python.'''\n",
    "\n",
    "e = [0, 12, 45.21 ,34, 99.91]\n",
    "\n",
    "\n",
    "[((i-32)*5/9) for i in e]"
   ]
  },
  {
   "cell_type": "code",
   "execution_count": 107,
   "metadata": {},
   "outputs": [
    {
     "data": {
      "text/plain": [
       "[0, 20, 60, 80]"
      ]
     },
     "execution_count": 107,
     "metadata": {},
     "output_type": "execute_result"
    }
   ],
   "source": [
    "'''9. Write a Python program to find the set difference of two arrays. The set difference will\n",
    "return the sorted, unique values in array1 that are not in array2. Expected Output:\n",
    "Array1: [ 0 10 20 40 60 80]\n",
    "Array2: [10, 30, 40, 50, 70, 90]\n",
    "Set difference between two arrays: [ 0 20 60 80]\n",
    "Hint:explore the use of function np.setdiff1d.'''\n",
    "\n",
    "Array1= [ 0, 10, 20, 40, 60, 80]\n",
    "Array2= [10, 30, 40, 50, 70, 90]\n",
    "\n",
    "[i for i in Array1 if i not in Array2]"
   ]
  },
  {
   "cell_type": "code",
   "execution_count": 113,
   "metadata": {},
   "outputs": [
    {
     "data": {
      "text/plain": [
       "array([[4, 0, 0, 0, 0],\n",
       "       [0, 5, 0, 0, 0],\n",
       "       [0, 0, 6, 0, 0],\n",
       "       [0, 0, 0, 7, 0],\n",
       "       [0, 0, 0, 0, 8]])"
      ]
     },
     "execution_count": 113,
     "metadata": {},
     "output_type": "execute_result"
    }
   ],
   "source": [
    "'''10. Write a Python program to create a 2-D array whose diagonal equals [4, 5, 6, 8] and 0’s\n",
    "elsewhere.'''\n",
    "\n",
    "np.diag([4,5,6,7,8])"
   ]
  },
  {
   "cell_type": "code",
   "execution_count": null,
   "metadata": {
    "collapsed": true
   },
   "outputs": [],
   "source": []
  }
 ],
 "metadata": {
  "kernelspec": {
   "display_name": "Python 3",
   "language": "python",
   "name": "python3"
  },
  "language_info": {
   "codemirror_mode": {
    "name": "ipython",
    "version": 3
   },
   "file_extension": ".py",
   "mimetype": "text/x-python",
   "name": "python",
   "nbconvert_exporter": "python",
   "pygments_lexer": "ipython3",
   "version": "3.6.3"
  }
 },
 "nbformat": 4,
 "nbformat_minor": 2
}
