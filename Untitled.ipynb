{
 "cells": [
  {
   "cell_type": "markdown",
   "metadata": {},
   "source": [
    "# Expectativas de simulación de Procesos Financieros"
   ]
  },
  {
   "cell_type": "markdown",
   "metadata": {},
   "source": [
    "## Carlos Gutierrez Sandoval"
   ]
  },
  {
   "cell_type": "markdown",
   "metadata": {},
   "source": [
    "### Mis expectativas de curso\n",
    "\n",
    "Espero aprender lo siguiente:\n",
    "-  Espero aprender a utilizar $\\LaTeX{}$\n",
    "-  Aprender simulación y distribuciones con sus matemáticas rigurosas.\n",
    "-  Rigor matemático en prácticas\n",
    "\n",
    "\n",
    "Me gustaría conocer distribuciones poco comunes y con mejor ajuste a datos financieros bursátiles. Métricas de desempeño.\n",
    "\n",
    "Inverse Gaussian: $\\sqrt{\\frac{\\lambda}{2\\pi x^3}}e^{-\\frac{\\lambda(x - \\mu )^2}{2\\mu^2x}}$\n",
    "\n",
    "\n",
    "\n",
    "![Inv Gauss](distr.png)\n",
    "\n",
    "Matriz de confusión.\n",
    "\n",
    "\n",
    "| conf. Matrix   |      Positive      |  Negative |\n",
    "|----------|:-------------:|------:|\n",
    "| True |  TP | TN |\n",
    "| False |    FP   |   FN |\n"
   ]
  }
 ],
 "metadata": {
  "kernelspec": {
   "display_name": "Python 3",
   "language": "python",
   "name": "python3"
  },
  "language_info": {
   "codemirror_mode": {
    "name": "ipython",
    "version": 3
   },
   "file_extension": ".py",
   "mimetype": "text/x-python",
   "name": "python",
   "nbconvert_exporter": "python",
   "pygments_lexer": "ipython3",
   "version": "3.6.3"
  }
 },
 "nbformat": 4,
 "nbformat_minor": 2
}
