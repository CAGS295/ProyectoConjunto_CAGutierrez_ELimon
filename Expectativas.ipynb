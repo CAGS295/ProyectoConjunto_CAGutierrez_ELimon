{
 "cells": [
  {
   "cell_type": "markdown",
   "metadata": {},
   "source": [
    "# Expectativas de simulación de Procesos Financieros"
   ]
  },
  {
   "cell_type": "markdown",
   "metadata": {},
   "source": [
    "## Carlos Gutierrez Sandoval"
   ]
  },
  {
   "cell_type": "markdown",
   "metadata": {},
   "source": [
    "### Mis expectativas de curso\n",
    "\n",
    "Espero aprender lo siguiente:\n",
    "-  Espero aprender a utilizar $\\LaTeX{}$\n",
    "-  Aprender simulación y distribuciones con sus matemáticas rigurosas.\n",
    "-  Rigor matemático en prácticas\n",
    "\n",
    "\n",
    "Me gustaría conocer distribuciones poco comunes y con mejor ajuste a datos financieros bursátiles. Métricas de desempeño.\n",
    "\n",
    "Inverse Gaussian: $\\sqrt{\\frac{\\lambda}{2\\pi x^3}}e^{-\\frac{\\lambda(x - \\mu )^2}{2\\mu^2x}}$\n",
    "\n",
    "\n",
    "\n",
    "![Inv Gauss](distr.png)\n",
    "\n",
    "Matriz de confusión.\n",
    "\n",
    "\n",
    "| conf. Matrix   |      Positive      |  Negative |\n",
    "|----------|:-------------:|------:|\n",
    "| True |  TP | TN |\n",
    "| False |    FP   |   FN |\n"
   ]
  },
  {
   "cell_type": "markdown",
   "metadata": {
    "collapsed": true
   },
   "source": [
    "## Esteban Limón Ochoa\n"
   ]
  },
  {
   "cell_type": "markdown",
   "metadata": {},
   "source": [
    "De la materia de simulación de procesos financieros espero aprender a programar mucho mejor de lo que ya lo hago, aprender a hacer de una manera más eficiente todos los conocimientos que he ido adquiriendo a lo argo de la carrera. Una de mis expectativas básicas es aprender como valuar opciones americanas, ya que se que dichas opciones no se valuan como las opciones europeas. La materia debe de enseñar métodos para simular procesos financieros. \n",
    "Principalmente en el curso aprenderemos a programar y a utilizar las herramientas que ofrece github. Github es una herramienta útil para hacer proyectos de programación desde diferentes lugares. Después espero que empezemos a abordar los procesos financieros.Según el plan de estudio primero nos va a introducir a la simulación, después nos hablará de la Simulación Monte Carlo y al final de la valuación de opciones. En otros cursos nos introdujeron a la simulación (Simulación Matemática), después en análisis de riesgo nos hablarón de MonteCarlo, y en finazas cuantitativas nos enseñaron a valuar opciones, en administración de riesgo nos enseñan a calcular el valor en Riesgo. or lo que creo que si es importante abordar los cuatro temas, aunque el maestro explico que es muy probable que solo veamos hasta la valuación de opciones.\n"
   ]
  },
  {
   "cell_type": "markdown",
   "metadata": {},
   "source": [
    "## A continuación presento la gráfica de utilidad de las opciones básicas, las cuales creo que valuaremos en este curso.\n",
    "![](CallPutCompraVenta.JPG)"
   ]
  },
  {
   "cell_type": "markdown",
   "metadata": {},
   "source": [
    "Las letras griegas son medidas de sensibilidad de las opciones. La delta es la razón de cambio de la opción con respecto al subyacente, la gamma es la segunda razón de cambio de la opción con respecto al subyacente del cual se esta haciendo la opción.\n",
    "### A continuación las letras griegas de las opciones y su afectación al que utiliza opciones.\n",
    "\n",
    "|letra griega|call corto|call largo|put corto|put largo|\n",
    "|------------|----------|----------|---------|---------|\n",
    "|delta       |negativo  |positivo  |positivo |negativo |\n",
    "|gamma       |negativo  |positivo  |negativo |positivo |\n",
    "|vega        |negativo  |positivo  |negativo |positivo |\n",
    "|theta       |positivo  |negativo  |positivo |negativo |\n",
    "\n",
    "\n",
    "\n",
    "\n"
   ]
  }
 ],
 "metadata": {
  "kernelspec": {
   "display_name": "Python 3",
   "language": "python",
   "name": "python3"
  },
  "language_info": {
   "codemirror_mode": {
    "name": "ipython",
    "version": 3
   },
   "file_extension": ".py",
   "mimetype": "text/x-python",
   "name": "python",
   "nbconvert_exporter": "python",
   "pygments_lexer": "ipython3",
   "version": "3.6.3"
  }
 },
 "nbformat": 4,
 "nbformat_minor": 2
}
